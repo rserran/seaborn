{
 "cells": [
  {
   "cell_type": "code",
   "execution_count": null,
   "id": "2923956c-f141-4ecb-ab08-e819099f0fa9",
   "metadata": {
    "tags": [
     "hide"
    ]
   },
   "outputs": [],
   "source": [
    "import seaborn.objects as so\n",
    "from seaborn import load_dataset\n",
    "penguins = load_dataset(\"penguins\")"
   ]
  },
  {
   "cell_type": "raw",
   "id": "576cbc86-f869-47b5-a98f-6ee727287a8b",
   "metadata": {},
   "source": [
    "This mark will often be used in the context of a stat transform that adds an errorbar interval:"
   ]
  },
  {
   "cell_type": "code",
   "execution_count": null,
   "id": "f6217b85-7479-49fd-aeda-9f435aa0473a",
   "metadata": {},
   "outputs": [],
   "source": [
    "(\n",
    "    so.Plot(penguins, x=\"body_mass_g\", y=\"species\", color=\"sex\")\n",
    "    .add(so.Dot(), so.Agg(), so.Dodge())\n",
    "    .add(so.Range(), so.Est(errorbar=\"sd\"), so.Dodge())\n",
    ")"
   ]
  },
  {
   "cell_type": "raw",
   "id": "e156ea24-d8b4-4d67-acb5-750034be4dde",
   "metadata": {},
   "source": [
    "One feature (or potential gotcha) is that the mark will pick up properties like `linestyle` and `linewidth`; exclude those properties from the relevant layer if this behavior is undesired:"
   ]
  },
  {
   "cell_type": "code",
   "execution_count": null,
   "id": "4bb63ebb-7733-4313-844c-cb7613298da3",
   "metadata": {},
   "outputs": [],
   "source": [
    "(\n",
    "    so.Plot(penguins, x=\"sex\", y=\"body_mass_g\", linestyle=\"species\")\n",
    "    .facet(\"species\")\n",
    "    .add(so.Line(marker=\"o\"), so.Agg())\n",
    "    .add(so.Range(), so.Est(errorbar=\"pi\"))\n",
    ")"
   ]
  },
  {
   "cell_type": "raw",
   "id": "5387e049-b343-49ea-a943-7dd9c090f184",
   "metadata": {},
   "source": [
    "It's also possible to directly assign the minimum and maximum values for the range:"
   ]
  },
  {
   "cell_type": "code",
   "execution_count": null,
   "id": "4e795770-4481-4e23-a49b-e828a1f5cbbd",
   "metadata": {},
   "outputs": [],
   "source": [
    "(\n",
    "    penguins\n",
    "    .rename_axis(\"penguin\")\n",
    "    .pipe(so.Plot, ymin=\"bill_depth_mm\", ymax=\"bill_length_mm\", x=\"penguin\")\n",
    "    .add(so.Range(), color=\"island\", linewidth=\"body_mass_g\")\n",
    "    .scale(x=so.Continuous().tick(count=0), linewidth=(.5, 1.5))\n",
    "    .facet(row=\"species\", col=\"sex\")\n",
    "    .layout(size=(8, 4))\n",
    "    .share(x=False)\n",
    "    .label(x=\"\", y=\"Size (mm)\")\n",
    ")"
   ]
  },
  {
   "cell_type": "code",
   "execution_count": null,
   "id": "08751ee7-d0a0-4e70-92b4-c1b38ea28890",
   "metadata": {},
   "outputs": [],
   "source": []
  }
 ],
 "metadata": {
  "kernelspec": {
   "display_name": "seaborn-py39-latest",
   "language": "python",
   "name": "seaborn-py39-latest"
  },
  "language_info": {
   "codemirror_mode": {
    "name": "ipython",
    "version": 3
   },
   "file_extension": ".py",
   "mimetype": "text/x-python",
   "name": "python",
   "nbconvert_exporter": "python",
   "pygments_lexer": "ipython3",
   "version": "3.9.13"
  }
 },
 "nbformat": 4,
 "nbformat_minor": 5
}

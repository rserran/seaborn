{
 "cells": [
  {
   "cell_type": "markdown",
   "id": "b3b7451c-9938-4cc2-a6ee-7298548d3bfa",
   "metadata": {},
   "source": [
    "# Next-generation seaborn interface\n",
    "\n",
    "Over the past year, I have been developing an entirely new interface for making plots with seaborn. The new interface is designed to be declarative, compositional and extensible. If successful, it will greatly expand the space of plots that can be created with seaborn while making the experience of using it simpler and more delightful.\n",
    "\n",
    "To make that concrete, here is a [hello world example](http://seaborn.pydata.org/introduction.html#our-first-seaborn-plot) with the new interface:"
   ]
  },
  {
   "cell_type": "code",
   "execution_count": null,
   "id": "03997ae0-313d-46d8-9a7a-9b3e13f405fd",
   "metadata": {},
   "outputs": [],
   "source": [
    "import seaborn as sns\n",
    "sns.set_theme()\n",
    "tips = sns.load_dataset(\"tips\")\n",
    "\n",
    "import seaborn.objects as so\n",
    "(\n",
    "    so.Plot(\n",
    "        tips, \"total_bill\", \"tip\",\n",
    "        color=\"smoker\", marker=\"smoker\", pointsize=\"size\",\n",
    "    )\n",
    "    .facet(\"time\")\n",
    "    .add(so.Scatter())\n",
    "    .configure(figsize=(7, 4))\n",
    ")"
   ]
  },
  {
   "cell_type": "markdown",
   "id": "c76dbb00-20ee-4508-bca3-76a4763e5640",
   "metadata": {},
   "source": [
    "## Testing the alpha release\n",
    "\n",
    "If you're interested, please install the alpha and kick the tires. It is very far from complete, so expect some rough edges and instability! But feedback will be very helpful in pushing this towards a more stable broad release:\n",
    "\n",
    "    pip install https://github.com/mwaskom/seaborn/archive/refs/tags/v0.12.0a0.tar.gz\n",
    "\n",
    "The documentation is still a work in progress, but there's a reasonably thorough demo of the main parts, and some basic API documentation for the existing classes."
   ]
  },
  {
   "cell_type": "raw",
   "id": "dee35714-b4c9-474d-96a9-a7c1e9312f23",
   "metadata": {},
   "source": [
    ".. toctree::\n",
    "    :maxdepth: 1\n",
    "\n",
    "    demo\n",
    "    api"
   ]
  },
  {
   "cell_type": "markdown",
   "id": "ebb5eb5b-515a-4374-996e-70cb72e883d3",
   "metadata": {},
   "source": [
    "## Background and goals\n",
    "\n",
    "This work grew out of long-running efforts to refactor the seaborn internals so that its functions could rely on common code-paths. At a certain point, I realized that I was developing an API that might also be interesting for external users.\n",
    "\n",
    "Of course, \"write a new interface\" quickly turned into \"rethink every aspect of the library.\" The current interface has some [pain points](https://michaelwaskom.medium.com/three-common-seaborn-difficulties-10fdd0cc2a8b) that arise from early constraints and path dependence. By starting fresh, these can be avoided.\n",
    "\n",
    "Originally, seaborn existed as a toolbox of domain-specific statistical graphics to be used alongside matplotlib. As the library grew, it became more common to reach for — or even learn — seaborn first. But one inevitably desires some customization that is not offered within the (already much-too-long) list of parameters in seaborn's functions. Currently, this necessitates direct use of matplotlib. I've always thought that, if you're comfortable with both libraries, this setup offers a powerful blend of convenience and flexibility. But it can be hard to know which library will let you accomplish some specific task.\n",
    "\n",
    "So the new interface is designed to provide a more comprehensive experience, such that all of the steps involved in the creation of a reasonably-customized plot can be accomplished in the same way. And the compositional nature of the objects provides much more flexibility than currently exists in seaborn with a similar level of abstraction: this lets you focus on *what* you want to show rather than *how* to show it.\n",
    "\n",
    "One will note that the result looks a bit (a lot?) like ggplot. That's not unintentional, but the goal is also *not* to \"port ggplot2 to Python\". (If that's what you're looking for, check out the very nice [plotnine](https://plotnine.readthedocs.io/en/stable/) package). There is an immense amount of wisdom in the grammar of graphics and in its particular implementation as ggplot2. But, as languages, R and Python are just too different for idioms from one to feel natural when translated literally into the other. So while I have taken much inspiration from ggplot (along with vega-lite, d3, and other great libraries), I've also made plenty of choices differently, for better or for worse."
   ]
  },
  {
   "cell_type": "code",
   "execution_count": null,
   "id": "8cdc2435-9ef5-4b89-b85c-ad4f0c55050a",
   "metadata": {},
   "outputs": [],
   "source": []
  }
 ],
 "metadata": {
  "kernelspec": {
   "display_name": "seaborn-py39-latest",
   "language": "python",
   "name": "seaborn-py39-latest"
  },
  "language_info": {
   "codemirror_mode": {
    "name": "ipython",
    "version": 3
   },
   "file_extension": ".py",
   "mimetype": "text/x-python",
   "name": "python",
   "nbconvert_exporter": "python",
   "pygments_lexer": "ipython3",
   "version": "3.9.9"
  }
 },
 "nbformat": 4,
 "nbformat_minor": 5
}

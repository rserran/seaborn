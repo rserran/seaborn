{
 "cells": [
  {
   "cell_type": "markdown",
   "id": "662eff49-63cf-42b5-8a48-ac4145c2e3cc",
   "metadata": {},
   "source": [
    "# Demonstration of next-generation seaborn interface"
   ]
  },
  {
   "cell_type": "raw",
   "id": "e7636dfe-2eff-4dc7-8f4f-325768c28cb4",
   "metadata": {},
   "source": [
    ".. warning::\n",
    "\n",
    "    This API is **experimental** and **unstable**. Please try it out and provide feedback, but expect it to change without warning prior to an official release."
   ]
  },
  {
   "cell_type": "markdown",
   "id": "fab541af",
   "metadata": {},
   "source": [
    "## The basic interface\n",
    "\n",
    "The new interface exists as a set of classes that can be acessed through a single namespace import:"
   ]
  },
  {
   "cell_type": "code",
   "execution_count": null,
   "id": "c7cc1337",
   "metadata": {},
   "outputs": [],
   "source": [
    "import seaborn.objects as so"
   ]
  },
  {
   "cell_type": "markdown",
   "id": "7fd68dad",
   "metadata": {},
   "source": [
    "This is a clean namespace, and I'm leaning towards recommending `from seaborn.objects import *` for interactive usecases. But let's not go so far just yet.\n",
    "\n",
    "Let's also import the main namespace so we can load our trusty example datasets."
   ]
  },
  {
   "cell_type": "code",
   "execution_count": null,
   "id": "de5478fd",
   "metadata": {},
   "outputs": [],
   "source": [
    "import seaborn\n",
    "seaborn.set_theme()"
   ]
  },
  {
   "cell_type": "markdown",
   "id": "cb0b155c-6a89-4f4d-826b-bf23e513cdad",
   "metadata": {},
   "source": [
    "The main object is `seaborn.objects.Plot`. You instantiate it by passing data and some assignments from columns in the data to roles in the plot:"
   ]
  },
  {
   "cell_type": "code",
   "execution_count": null,
   "id": "e2c13f9c-15b1-48ce-999e-b59f9a76ae52",
   "metadata": {},
   "outputs": [],
   "source": [
    "tips = seaborn.load_dataset(\"tips\")\n",
    "so.Plot(tips, x=\"total_bill\", y=\"tip\")"
   ]
  },
  {
   "cell_type": "markdown",
   "id": "90050ae8-98ef-43b5-a079-523f97a01877",
   "metadata": {},
   "source": [
    "But instantiating the `Plot` object doesn't actually plot anything. For that you need to add some layers:"
   ]
  },
  {
   "cell_type": "code",
   "execution_count": null,
   "id": "8b1a4bec-aeac-4758-af07-dfc8f4adbf9e",
   "metadata": {},
   "outputs": [],
   "source": [
    "so.Plot(tips, x=\"total_bill\", y=\"tip\").add(so.Scatter())"
   ]
  },
  {
   "cell_type": "markdown",
   "id": "7d9e32f9-ac92-4ef9-8f6a-777ef004424f",
   "metadata": {},
   "source": [
    "Variables can be defined globally, or for a specific layer:"
   ]
  },
  {
   "cell_type": "code",
   "execution_count": null,
   "id": "b78774e1-b98f-4335-897f-6d9b2c404cfa",
   "metadata": {},
   "outputs": [],
   "source": [
    "so.Plot(tips).add(so.Scatter(), x=\"total_bill\", y=\"tip\")"
   ]
  },
  {
   "cell_type": "markdown",
   "id": "29b96416-6bc4-480b-bc91-86a466b705c3",
   "metadata": {},
   "source": [
    "Each layer can also have its own data:"
   ]
  },
  {
   "cell_type": "code",
   "execution_count": null,
   "id": "ef21550d-a404-4b73-925b-3b9c8d00ec92",
   "metadata": {},
   "outputs": [],
   "source": [
    "(\n",
    "    so.Plot(tips, x=\"total_bill\", y=\"tip\")\n",
    "    .add(so.Scatter(color=\".6\"), data=tips.query(\"size != 2\"))\n",
    "    .add(so.Scatter(), data=tips.query(\"size == 2\"))\n",
    ")"
   ]
  },
  {
   "cell_type": "markdown",
   "id": "cfa61787-b6c9-4aef-8a39-533fd566fc74",
   "metadata": {},
   "source": [
    "As in the existing interface, variables can be keys to the `data` object or vectors of various kinds:"
   ]
  },
  {
   "cell_type": "code",
   "execution_count": null,
   "id": "707e70c2-9751-4579-b9e9-a74d8d5ba8ad",
   "metadata": {},
   "outputs": [],
   "source": [
    "(\n",
    "    so.Plot(tips.to_dict(), x=\"total_bill\")\n",
    "    .add(so.Scatter(), y=tips[\"tip\"].to_numpy())\n",
    ")"
   ]
  },
  {
   "cell_type": "markdown",
   "id": "2875d1e2-f06a-4166-8fdc-57c71dc0e56a",
   "metadata": {},
   "source": [
    "The interface also supports semantic mappings between data and plot variables. But the specification of those mappings uses more explicit parameter names:"
   ]
  },
  {
   "cell_type": "code",
   "execution_count": null,
   "id": "1f78ad77-7708-4010-b2ae-3d7430d37e96",
   "metadata": {},
   "outputs": [],
   "source": [
    "so.Plot(tips, x=\"total_bill\", y=\"tip\", color=\"time\").add(so.Scatter())"
   ]
  },
  {
   "cell_type": "markdown",
   "id": "90911104-ec12-4cf1-bcdb-3991ca55f600",
   "metadata": {},
   "source": [
    "It also offers a wider range of mappable features:"
   ]
  },
  {
   "cell_type": "code",
   "execution_count": null,
   "id": "e56e910c-e4f6-4e13-8913-c01c97a0c296",
   "metadata": {},
   "outputs": [],
   "source": [
    "(\n",
    "    so.Plot(tips, x=\"total_bill\", y=\"tip\", color=\"day\", fill=\"time\")\n",
    "    .add(so.Scatter(fillalpha=.8))\n",
    ")"
   ]
  },
  {
   "cell_type": "markdown",
   "id": "a84fb373",
   "metadata": {},
   "source": [
    "---\n",
    "\n",
    "## Core components\n",
    "\n",
    "### Visual representation: the Mark"
   ]
  },
  {
   "cell_type": "markdown",
   "id": "a224ebd6-720b-4645-909e-58a2a0d787d3",
   "metadata": {},
   "source": [
    "Each layer needs a `Mark` object, which defines how to draw the plot. There will be marks corresponding to existing seaborn functions and ones offering new functionality. But not many have been implemented yet:"
   ]
  },
  {
   "cell_type": "code",
   "execution_count": null,
   "id": "c31d7411-2a87-4e7a-baaf-5d3ef8cc5b91",
   "metadata": {},
   "outputs": [],
   "source": [
    "fmri = seaborn.load_dataset(\"fmri\").query(\"region == 'parietal'\")\n",
    "so.Plot(fmri, x=\"timepoint\", y=\"signal\").add(so.Line())"
   ]
  },
  {
   "cell_type": "markdown",
   "id": "c973ed95-924e-47e0-960b-22fbffabae35",
   "metadata": {},
   "source": [
    "`Mark` objects will expose an API to set features directly, rather than mapping them:"
   ]
  },
  {
   "cell_type": "code",
   "execution_count": null,
   "id": "df5244c8-60f2-4218-adaf-2036a9e72bc1",
   "metadata": {},
   "outputs": [],
   "source": [
    "so.Plot(tips, y=\"day\", x=\"total_bill\").add(so.Dot(color=\"#698\", alpha=.5))"
   ]
  },
  {
   "cell_type": "markdown",
   "id": "ae0e288e-74cf-461c-8e68-786e364032a1",
   "metadata": {},
   "source": [
    "### Data transformation: the Stat\n",
    "\n",
    "\n",
    "Built-in statistical transformations are one of seaborn's key features. But currently, they are tied up with the different visual representations. E.g., you can aggregate data in `lineplot`, but not in `scatterplot`.\n",
    "\n",
    "In the new interface, these concerns are separated. Each layer can accept a `Stat` object that applies a data transformation:"
   ]
  },
  {
   "cell_type": "code",
   "execution_count": null,
   "id": "9edb53ec-7146-43c6-870a-eff46ea282ba",
   "metadata": {},
   "outputs": [],
   "source": [
    "so.Plot(fmri, x=\"timepoint\", y=\"signal\").add(so.Line(), so.Agg())"
   ]
  },
  {
   "cell_type": "markdown",
   "id": "1788d935-5ad5-4262-993f-8d48c66631b9",
   "metadata": {},
   "source": [
    "The `Stat` is computed on subsets of data defined by the semantic mappings:"
   ]
  },
  {
   "cell_type": "code",
   "execution_count": null,
   "id": "08fe699f-c6ce-4508-9746-efe1504e67b3",
   "metadata": {},
   "outputs": [],
   "source": [
    "so.Plot(fmri, x=\"timepoint\", y=\"signal\", color=\"event\").add(so.Line(), so.Agg())"
   ]
  },
  {
   "cell_type": "markdown",
   "id": "08e0155f-e290-4378-9f2c-f818993cd8e2",
   "metadata": {},
   "source": [
    "Each mark also accepts a `group` mapping that creates subsets without altering visual properties:"
   ]
  },
  {
   "cell_type": "code",
   "execution_count": null,
   "id": "8c6c94d2-81c5-42d7-9a53-885547a92bae",
   "metadata": {},
   "outputs": [],
   "source": [
    "(\n",
    "    so.Plot(fmri, x=\"timepoint\", y=\"signal\", color=\"event\")\n",
    "    .add(so.Line(), so.Agg(), group=\"subject\")\n",
    ")"
   ]
  },
  {
   "cell_type": "markdown",
   "id": "aa9409ac-8200-4a4d-8f60-8bee612cd6c0",
   "metadata": {},
   "source": [
    "The `Mark` and `Stat` objects allow for more compositionality and customization. There will be guidelines for how to define your own objects to plug into the broader system:"
   ]
  },
  {
   "cell_type": "code",
   "execution_count": null,
   "id": "7edd619c-baf4-4acc-99f1-ebe5a9475555",
   "metadata": {},
   "outputs": [],
   "source": [
    "class PeakAnnotation(so.Mark):\n",
    "    def plot(self, split_generator, scales, orient):\n",
    "        for keys, data, ax in split_generator():\n",
    "            ix = data[\"y\"].idxmax()\n",
    "            ax.annotate(\n",
    "                \"The peak\", data.loc[ix, [\"x\", \"y\"]],\n",
    "                xytext=(10, -100), textcoords=\"offset points\",\n",
    "                va=\"top\", ha=\"center\",\n",
    "                arrowprops=dict(arrowstyle=\"->\", color=\".2\"),\n",
    "\n",
    "            )\n",
    "\n",
    "(\n",
    "    so.Plot(fmri, x=\"timepoint\", y=\"signal\")\n",
    "    .add(so.Line(), so.Agg())\n",
    "    .add(PeakAnnotation(), so.Agg())\n",
    ")"
   ]
  },
  {
   "cell_type": "markdown",
   "id": "28ac1b3b-c83b-4e06-8ea5-7ba73b6f2498",
   "metadata": {},
   "source": [
    "The new interface understands not just `x` and `y`, but also range specifiers; some `Stat` objects will output ranges, and some `Mark` objects will accept them. (This means that it will finally be possible to pass pre-defined error-bars into seaborn):"
   ]
  },
  {
   "cell_type": "code",
   "execution_count": null,
   "id": "eb9d0026-01a8-4ac7-a9fb-178144f063d2",
   "metadata": {},
   "outputs": [],
   "source": [
    "(\n",
    "    fmri\n",
    "    .groupby(\"timepoint\")\n",
    "    .signal\n",
    "    .describe()\n",
    "    .pipe(so.Plot, x=\"timepoint\")\n",
    "    .add(so.Line(), y=\"mean\")\n",
    "    .add(so.Ribbon(alpha=.2), ymin=\"min\", ymax=\"max\")\n",
    ")"
   ]
  },
  {
   "cell_type": "markdown",
   "id": "6c2dbb64-9569-4e93-9968-532d9d5cbaf1",
   "metadata": {},
   "source": [
    "-----\n",
    "\n",
    "### Overplotting resolution: the Move\n",
    "\n",
    "Existing seaborn functions have parameters that allow adjustments for overplotting, such as `dodge=` in several categorical functions, `jitter=` in several functions based on scatterplots, and the `multiple=` paramter in distribution functions. In the new interface, those adjustments are abstracted away from the particular visual representation into the concept of a `Move`:"
   ]
  },
  {
   "cell_type": "code",
   "execution_count": null,
   "id": "9cbd874f-cd3d-4cc2-b029-dddf40dc3965",
   "metadata": {},
   "outputs": [],
   "source": [
    "(\n",
    "    so.Plot(tips, \"day\", \"total_bill\", color=\"time\")\n",
    "    .add(so.Bar(), so.Agg(), move=so.Dodge())\n",
    ")"
   ]
  },
  {
   "cell_type": "markdown",
   "id": "a0524b93-56d8-4695-b3c3-164989c3bf51",
   "metadata": {},
   "source": [
    "Separating out the positional adjustment makes it possible to add additional flexibility without overwhelming the signature of a single function. For example, there will be more options for handling missing levels when dodging and for fine-tuning the adjustment."
   ]
  },
  {
   "cell_type": "code",
   "execution_count": null,
   "id": "40916811-440a-49f9-8ae5-601472652a96",
   "metadata": {},
   "outputs": [],
   "source": [
    "(\n",
    "    so.Plot(tips, \"day\", \"total_bill\", color=\"time\")\n",
    "    .add(so.Bar(), so.Agg(), move=so.Dodge(empty=\"fill\", gap=.1))\n",
    ")"
   ]
  },
  {
   "cell_type": "markdown",
   "id": "d3fc22b3-01b0-427f-8ffe-8065daf757c9",
   "metadata": {},
   "source": [
    "By default, the `move` will resolve all overlapping semantic mappings:"
   ]
  },
  {
   "cell_type": "code",
   "execution_count": null,
   "id": "7e73fb57-450a-4c1d-8e3c-642dd0f032a3",
   "metadata": {},
   "outputs": [],
   "source": [
    "(\n",
    "    so.Plot(tips, \"day\", \"total_bill\", color=\"time\", alpha=\"sex\")\n",
    "    .add(so.Bar(), so.Agg(), move=so.Dodge())\n",
    ")"
   ]
  },
  {
   "cell_type": "markdown",
   "id": "0815cf5f-cc23-4104-b50e-589d6d675c51",
   "metadata": {},
   "source": [
    "But you can specify a subset:"
   ]
  },
  {
   "cell_type": "code",
   "execution_count": null,
   "id": "68ec1247-4218-41e0-a5bb-2f76bc778ae0",
   "metadata": {},
   "outputs": [],
   "source": [
    "(\n",
    "    so.Plot(tips, \"day\", \"total_bill\", color=\"time\", alpha=\"smoker\")\n",
    "    .add(so.Dot(), move=so.Dodge(by=[\"color\"]))\n",
    ")"
   ]
  },
  {
   "cell_type": "markdown",
   "id": "c001004a-6771-46eb-b231-6accf88fe330",
   "metadata": {},
   "source": [
    "It's also possible to stack multiple moves or kinds of moves by passing a list:"
   ]
  },
  {
   "cell_type": "code",
   "execution_count": null,
   "id": "82421309-65f4-44cf-b0dd-5fcde629d784",
   "metadata": {},
   "outputs": [],
   "source": [
    "(\n",
    "    so.Plot(tips, \"day\", \"total_bill\", color=\"time\", alpha=\"smoker\")\n",
    "    .add(\n",
    "        so.Dot(),\n",
    "        move=[so.Dodge(by=[\"color\"]), so.Jitter(.5)]\n",
    "    )\n",
    ")"
   ]
  },
  {
   "cell_type": "markdown",
   "id": "988f245a",
   "metadata": {},
   "source": [
    "Separating the `Stat` and `Move` from the visual representation affords more flexibility, greatly expanding the space of graphics that can be created."
   ]
  },
  {
   "cell_type": "markdown",
   "id": "937d0e51-95b3-4997-8ca3-a63a09894a6b",
   "metadata": {
    "tags": []
   },
   "source": [
    "-----\n",
    "\n",
    "### Semantic mapping: the Scale\n",
    "\n",
    "The declarative interface allows users to represent dataset variables with visual properites such as position, color or size. A complete plot can be made without doing anything more defining the mappings: users need not be concerned with converting their data into units that matplotlib understands. But what if one wants to alter the mapping that seaborn chooses? This is accomplished through the concept of a `Scale`.\n",
    "\n",
    "The notion of scaling will probably not be unfamiliar; as in matplotlib, seaborn allows one to apply a mathematical transformation, such as `log`, to the coordinate variables:"
   ]
  },
  {
   "cell_type": "code",
   "execution_count": null,
   "id": "129d44e9-69b5-44e8-9b86-65074455913c",
   "metadata": {},
   "outputs": [],
   "source": [
    "planets = seaborn.load_dataset(\"planets\").query(\"distance < 1000\")"
   ]
  },
  {
   "cell_type": "code",
   "execution_count": null,
   "id": "ec1cbc42-5bdd-4287-8167-41f847e988c3",
   "metadata": {},
   "outputs": [],
   "source": [
    "(\n",
    "    so.Plot(planets, x=\"mass\", y=\"distance\")\n",
    "    .scale(x=\"log\", y=\"log\")\n",
    "    .add(so.Scatter())\n",
    ")"
   ]
  },
  {
   "cell_type": "markdown",
   "id": "a43e28d7-99e1-4e17-aa20-d4f3bb8bc86e",
   "metadata": {},
   "source": [
    "But the `Scale` concept is much more general in seaborn: a scale can be provided for any mappable property. For example, it is how you specify the palette used for color variables:"
   ]
  },
  {
   "cell_type": "code",
   "execution_count": null,
   "id": "4dbdd051-df47-4508-a67b-29517c7c0831",
   "metadata": {},
   "outputs": [],
   "source": [
    "(\n",
    "    so.Plot(planets, x=\"mass\", y=\"distance\", color=\"orbital_period\")\n",
    "    .scale(x=\"log\", y=\"log\", color=\"rocket\")\n",
    "    .add(so.Scatter())\n",
    ")"
   ]
  },
  {
   "cell_type": "markdown",
   "id": "bbb34aca-47df-4029-8a83-994a46d04c65",
   "metadata": {},
   "source": [
    "While there are a number of short-hand \"magic\" arguments you can provide for each scale, it is also possible to be more explicit by passing a `Scale` object. There are several distinct `Scale` classes, corresponding to the fundamental scale types (nominal, ordinal, continuous, etc.). Each class exposes a number of relevant parameters that control the details of the mapping:"
   ]
  },
  {
   "cell_type": "code",
   "execution_count": null,
   "id": "ec8c0c03-1757-48de-9a71-bef16488296a",
   "metadata": {},
   "outputs": [],
   "source": [
    "(\n",
    "    so.Plot(planets, x=\"mass\", y=\"distance\", color=\"orbital_period\")\n",
    "    .scale(\n",
    "        x=\"log\",\n",
    "        y=so.Continuous(transform=\"log\").tick(at=[3, 10, 30, 100, 300]),\n",
    "        color=so.Continuous(\"rocket\", transform=\"log\"),\n",
    "    )\n",
    "    .add(so.Scatter())\n",
    ")"
   ]
  },
  {
   "cell_type": "markdown",
   "id": "81565db5-8791-4f6c-bc49-59673081686c",
   "metadata": {},
   "source": [
    "There are several different kinds of scales, including scales appropriate for categorical data:"
   ]
  },
  {
   "cell_type": "code",
   "execution_count": null,
   "id": "77b9ca9a-f2f7-48c3-913e-72a70ad1d21e",
   "metadata": {},
   "outputs": [],
   "source": [
    "(\n",
    "    so.Plot(planets, x=\"year\", y=\"distance\", color=\"method\")\n",
    "    .scale(\n",
    "        y=\"log\",\n",
    "        color=so.Nominal([\"b\", \"g\"], order=[\"Radial Velocity\", \"Transit\"])\n",
    "    )\n",
    "    .add(so.Scatter())\n",
    ")"
   ]
  },
  {
   "cell_type": "markdown",
   "id": "9e7c9211-70fe-4f63-9951-7b9af68627a1",
   "metadata": {},
   "source": [
    "It's also possible to disable scaling for a variable so that the literal values in the dataset are passed directly through to matplotlib:"
   ]
  },
  {
   "cell_type": "code",
   "execution_count": null,
   "id": "dc009a51-a725-4bdd-85c9-7b97bc86d96b",
   "metadata": {},
   "outputs": [],
   "source": [
    "(\n",
    "    so.Plot(planets, x=\"distance\", y=\"orbital_period\", pointsize=\"mass\")\n",
    "    .scale(x=\"log\", y=\"log\", pointsize=None)\n",
    "    .add(so.Scatter())\n",
    ")"
   ]
  },
  {
   "cell_type": "markdown",
   "id": "ca5430c5-8690-490a-80fb-698f264a7b6a",
   "metadata": {},
   "source": [
    "Scaling interacts with the `Stat` and `Move` transformations. When an axis has a nonlinear scale, any statistical transformations or adjustments take place in the appropriate space:"
   ]
  },
  {
   "cell_type": "code",
   "execution_count": null,
   "id": "e657b9f8-0dab-48e8-b074-995097f0e41c",
   "metadata": {},
   "outputs": [],
   "source": [
    "so.Plot(planets, x=\"distance\").add(so.Bar(), so.Hist()).scale(x=\"log\")"
   ]
  },
  {
   "cell_type": "markdown",
   "id": "64de6841-07e1-4fa5-9b88-6a8984db59a0",
   "metadata": {},
   "source": [
    "This is also true of the `Move` transformations:"
   ]
  },
  {
   "cell_type": "code",
   "execution_count": null,
   "id": "e7ab3109-db3c-4bb6-aa3b-629a8c054ba5",
   "metadata": {},
   "outputs": [],
   "source": [
    "(\n",
    "    so.Plot(\n",
    "        planets, x=\"distance\",\n",
    "        color=(planets[\"number\"] > 1).rename(\"multiple\")\n",
    "    )\n",
    "    .add(so.Bar(), so.Hist(), so.Dodge())\n",
    "    .scale(x=\"log\", color=so.Nominal())\n",
    ")"
   ]
  },
  {
   "cell_type": "markdown",
   "id": "5041491d-b47f-4fb3-af93-7c9490d6b901",
   "metadata": {},
   "source": [
    "----\n",
    "\n",
    "## Defining subplot structure"
   ]
  },
  {
   "cell_type": "markdown",
   "id": "92c1a0fd-873f-476b-9e88-d6a2c4f49807",
   "metadata": {},
   "source": [
    "Seaborn's faceting functionality (drawing subsets of the data on distinct subplots) is built into the `Plot` object and works interchangably with any `Mark`/`Stat`/`Move`/`Scale` spec:"
   ]
  },
  {
   "cell_type": "code",
   "execution_count": null,
   "id": "6cfc9ea6-b5d2-4fc3-9a59-62a09668944a",
   "metadata": {},
   "outputs": [],
   "source": [
    "(\n",
    "    so.Plot(tips, x=\"total_bill\", y=\"tip\")\n",
    "    .facet(\"time\", order=[\"Dinner\", \"Lunch\"])\n",
    "    .add(so.Scatter())\n",
    ")"
   ]
  },
  {
   "cell_type": "markdown",
   "id": "fc429604-d719-44b0-b504-edeaca481583",
   "metadata": {},
   "source": [
    "Unlike the existing `FacetGrid` it is simple to *not* facet a layer, so that a plot is simply replicated across each column (or row):"
   ]
  },
  {
   "cell_type": "code",
   "execution_count": null,
   "id": "101e7d02-17b1-44b4-9f0c-6d7c4e194f76",
   "metadata": {},
   "outputs": [],
   "source": [
    "(\n",
    "    so.Plot(tips, x=\"total_bill\", y=\"tip\")\n",
    "    .facet(col=\"day\")\n",
    "    .add(so.Scatter(color=\".75\"), col=None)\n",
    "    .add(so.Scatter(), color=\"day\")\n",
    "    .configure(figsize=(7, 3))\n",
    ")"
   ]
  },
  {
   "cell_type": "markdown",
   "id": "befb9400-f252-49fd-aee6-00a1b371c645",
   "metadata": {},
   "source": [
    "The `Plot` object *also* subsumes the `PairGrid` functionality:"
   ]
  },
  {
   "cell_type": "code",
   "execution_count": null,
   "id": "06a63c71-3043-49b8-81c6-a8d7c8025015",
   "metadata": {},
   "outputs": [],
   "source": [
    "(\n",
    "    so.Plot(tips, y=\"day\")\n",
    "    .pair(x=[\"total_bill\", \"tip\"])\n",
    "    .add(so.Dot())\n",
    ")"
   ]
  },
  {
   "cell_type": "markdown",
   "id": "f0f2f885-2e87-41a7-bf21-877c05306067",
   "metadata": {},
   "source": [
    "Pairing and faceting can be combined in the same plot:"
   ]
  },
  {
   "cell_type": "code",
   "execution_count": null,
   "id": "c0108128-635e-4f92-8621-65627b95b6ea",
   "metadata": {},
   "outputs": [],
   "source": [
    "(\n",
    "    so.Plot(tips, x=\"day\")\n",
    "    .facet(\"sex\")\n",
    "    .pair(y=[\"total_bill\", \"tip\"])\n",
    "    .add(so.Dot())\n",
    ")"
   ]
  },
  {
   "cell_type": "markdown",
   "id": "f0933fcf-8f11-470c-b5c1-c3c2a1a1c2a1",
   "metadata": {},
   "source": [
    "Or the `Plot.pair` functionality can be used to define unique pairings between variables:"
   ]
  },
  {
   "cell_type": "code",
   "execution_count": null,
   "id": "3c2d4955-0f85-4318-8cac-7d8d33678bda",
   "metadata": {},
   "outputs": [],
   "source": [
    "(\n",
    "    so.Plot(tips)\n",
    "    .pair(x=[\"day\", \"time\"], y=[\"total_bill\", \"tip\"], cross=False)\n",
    "    .add(so.Dot())\n",
    ")"
   ]
  },
  {
   "cell_type": "markdown",
   "id": "be694009-ec20-4cdc-8be0-0b2e5a6839a1",
   "metadata": {},
   "source": [
    "It's additionally possible to \"pair\" with a single variable, for univariate plots like histograms.\n",
    "\n",
    "Both faceted and paired plots with subplots along a single dimension can be \"wrapped\", and this works both columwise and rowwise:"
   ]
  },
  {
   "cell_type": "code",
   "execution_count": null,
   "id": "c25cfa26-5c90-4699-8deb-9aa6ff41eae6",
   "metadata": {},
   "outputs": [],
   "source": [
    "(\n",
    "    so.Plot(tips)\n",
    "    .pair(x=tips.columns, wrap=3)\n",
    "    .configure(sharey=False)\n",
    "    .add(so.Bar(), so.Hist())\n",
    ")"
   ]
  },
  {
   "cell_type": "markdown",
   "id": "862d7901",
   "metadata": {},
   "source": [
    "Importantly, there's no distinction between \"axes-level\" and \"figure-level\" here. Any kind of plot can be faceted or paired by adding a method call to the `Plot` definition, without changing anything else about how you are creating the figure."
   ]
  },
  {
   "cell_type": "markdown",
   "id": "d1eff6ab-84dd-4b32-9923-3d29fb43a209",
   "metadata": {},
   "source": [
    "---\n",
    "\n",
    "## Iterating and displaying"
   ]
  },
  {
   "cell_type": "markdown",
   "id": "354b2395-4cad-40c0-a558-60368d5b435f",
   "metadata": {},
   "source": [
    "It is possible (and in fact the deafult behavior) to be completely pyplot-free, and all the drawing is done by directly hooking into Jupyter's rich display system. Unlike in normal usage of the inline backend, writing code in a cell to define a plot is indendent from showing it:"
   ]
  },
  {
   "cell_type": "code",
   "execution_count": null,
   "id": "e3171891-5e1e-4146-a940-f4327f40be3a",
   "metadata": {},
   "outputs": [],
   "source": [
    "p = so.Plot(fmri, x=\"timepoint\", y=\"signal\").add(so.Line(), so.Agg())"
   ]
  },
  {
   "cell_type": "code",
   "execution_count": null,
   "id": "7bd9fad6-0d9a-4cc8-9523-587270a71dc0",
   "metadata": {},
   "outputs": [],
   "source": [
    "p"
   ]
  },
  {
   "cell_type": "markdown",
   "id": "d7157904-0fcc-4eb8-8a7a-27df91cec68b",
   "metadata": {},
   "source": [
    "By default, the methods on `Plot` do *not* mutate the object they are called on. This means that you can define a common base specification and then iterate on different versions of it."
   ]
  },
  {
   "cell_type": "code",
   "execution_count": null,
   "id": "bf8e1469-2dae-470f-8599-fe5d45b2b038",
   "metadata": {},
   "outputs": [],
   "source": [
    "p = (\n",
    "    so.Plot(fmri, x=\"timepoint\", y=\"signal\", color=\"event\")\n",
    "    .scale(color=\"crest\")\n",
    ")"
   ]
  },
  {
   "cell_type": "code",
   "execution_count": null,
   "id": "b343b0e0-698a-4453-a3b8-b780f54724c8",
   "metadata": {},
   "outputs": [],
   "source": [
    "p.add(so.Line())"
   ]
  },
  {
   "cell_type": "code",
   "execution_count": null,
   "id": "ae17bce2-be77-44de-ada8-f546f786407d",
   "metadata": {},
   "outputs": [],
   "source": [
    "p.add(so.Line(), group=\"subject\")"
   ]
  },
  {
   "cell_type": "code",
   "execution_count": null,
   "id": "d2e89ef5-3cd3-4ec0-af83-1e69c087bbfb",
   "metadata": {},
   "outputs": [],
   "source": [
    "p.add(so.Line(), so.Agg())"
   ]
  },
  {
   "cell_type": "code",
   "execution_count": null,
   "id": "166d34d4-2b10-4aae-963d-9ba58f80f79d",
   "metadata": {},
   "outputs": [],
   "source": [
    "(\n",
    "    p\n",
    "    .add(so.Line(linewidth=.5, alpha=.5), group=\"subject\")\n",
    "    .add(so.Line(linewidth=3), so.Agg())\n",
    ")"
   ]
  },
  {
   "cell_type": "markdown",
   "id": "9228ee06-2a6c-41cb-95cf-7bb217a421e0",
   "metadata": {},
   "source": [
    "It's also possible to hook into the `pyplot` system by calling `Plot.show`. (As you might in a terminal interface, or to use a GUI). Notice how this looks lower-res: that's because `Plot` is generating \"high-DPI\" figures internally!"
   ]
  },
  {
   "cell_type": "code",
   "execution_count": null,
   "id": "c8055ab9-22c6-40cd-98e6-926a100cd173",
   "metadata": {},
   "outputs": [],
   "source": [
    "(\n",
    "    p\n",
    "    .add(so.Line(linewidth=.5, alpha=.5), group=\"subject\")\n",
    "    .add(so.Line(linewidth=3), so.Agg())\n",
    "    .show()\n",
    ")"
   ]
  },
  {
   "cell_type": "markdown",
   "id": "278e7ad4-a8e6-4cb7-ac61-9f2530ade898",
   "metadata": {},
   "source": [
    "---\n",
    "\n",
    "## Matplotlib integration\n",
    "\n",
    "It's always been a design aim in seaborn to allow complicated seaborn plots to coexist within the context of a larger matplotlib figure. This is acheived within the \"axes-level\" functions, which accept an `ax=` parameter. The `Plot` object *will* provide a similar functionality:"
   ]
  },
  {
   "cell_type": "code",
   "execution_count": null,
   "id": "0701b67e-f037-4cfd-b3f6-304dfb47a13c",
   "metadata": {},
   "outputs": [],
   "source": [
    "import matplotlib as mpl\n",
    "_, ax = mpl.figure.Figure(constrained_layout=True).subplots(1, 2)\n",
    "(\n",
    "    so.Plot(tips, x=\"total_bill\", y=\"tip\")\n",
    "    .on(ax)\n",
    "    .add(so.Scatter())\n",
    ")"
   ]
  },
  {
   "cell_type": "markdown",
   "id": "432144e8-e490-4213-8cc4-afdeeb467daa",
   "metadata": {},
   "source": [
    "But a limitation has been that the \"figure-level\" functions, which can produce multiple subplots, cannot be directed towards an existing figure. That is no longer the case; `Plot.on()` also accepts a `Figure` (created either with or without `pyplot`) object:"
   ]
  },
  {
   "cell_type": "code",
   "execution_count": null,
   "id": "d7c8c01e-db55-47ef-82f2-a69124bb4a94",
   "metadata": {},
   "outputs": [],
   "source": [
    "f = mpl.figure.Figure(constrained_layout=True)\n",
    "(\n",
    "    so.Plot(tips, x=\"total_bill\", y=\"tip\")\n",
    "    .on(f)\n",
    "    .add(so.Scatter())\n",
    "    .facet(\"time\")\n",
    ")"
   ]
  },
  {
   "cell_type": "markdown",
   "id": "b5b621be-f8c5-4515-81dd-6c7bd0e956ad",
   "metadata": {},
   "source": [
    "Providing an existing figure is perhaps only marginally useful. While it will ease the integration of seaborn with GUI frameworks, seaborn is still using up the whole figure canvas. But with the introduction of the `SubFigure` concept in matplotlib 3.4, it becomes possible to place a small-multiples plot *within* a larger set of subplots:"
   ]
  },
  {
   "cell_type": "code",
   "execution_count": null,
   "id": "192e6587-642d-45da-85bd-ac220ffd66e9",
   "metadata": {},
   "outputs": [],
   "source": [
    "f = mpl.figure.Figure(constrained_layout=True, figsize=(8, 4))\n",
    "sf1, sf2 = f.subfigures(1, 2)\n",
    "(\n",
    "    so.Plot(tips, x=\"total_bill\", y=\"tip\", color=\"day\")\n",
    "    .add(so.Scatter())\n",
    "    .on(sf1)\n",
    "    .plot()\n",
    ")\n",
    "(\n",
    "    so.Plot(tips, x=\"total_bill\", y=\"tip\", color=\"day\")\n",
    "    .facet(\"day\", wrap=2)\n",
    "    .add(so.Scatter())\n",
    "    .on(sf2)\n",
    "    .plot()\n",
    ")"
   ]
  },
  {
   "cell_type": "code",
   "execution_count": null,
   "id": "baff5db0",
   "metadata": {},
   "outputs": [],
   "source": []
  }
 ],
 "metadata": {
  "kernelspec": {
   "display_name": "seaborn-py39-latest",
   "language": "python",
   "name": "seaborn-py39-latest"
  },
  "language_info": {
   "codemirror_mode": {
    "name": "ipython",
    "version": 3
   },
   "file_extension": ".py",
   "mimetype": "text/x-python",
   "name": "python",
   "nbconvert_exporter": "python",
   "pygments_lexer": "ipython3",
   "version": "3.9.9"
  }
 },
 "nbformat": 4,
 "nbformat_minor": 5
}
